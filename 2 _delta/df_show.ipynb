{
 "cells": [
  {
   "cell_type": "raw",
   "id": "93e8ab56-7fdf-466c-9a6a-392724a9d5d4",
   "metadata": {},
   "source": [
    "Отображение промежуточных состояний итогового DF"
   ]
  },
  {
   "cell_type": "code",
   "execution_count": 1,
   "id": "ae29c931-a026-4769-aead-191cdd76e8f9",
   "metadata": {},
   "outputs": [],
   "source": [
    "import os\n",
    "import findspark\n",
    "findspark.init('/opt/spark-3.4.1-bin-hadoop3')\n",
    "\n",
    "from pyspark.sql import SparkSession "
   ]
  },
  {
   "cell_type": "code",
   "execution_count": 3,
   "id": "9b1f995c-db36-4bf9-83be-08a3ce2f79ac",
   "metadata": {},
   "outputs": [],
   "source": [
    "spark = SparkSession \\\n",
    "        .builder \\\n",
    "        .appName('pyspark_neoflex_project_2_2') \\\n",
    "        .enableHiveSupport() \\\n",
    "        .getOrCreate()\n",
    "spark.sparkContext.setLogLevel('ERROR')"
   ]
  },
  {
   "cell_type": "code",
   "execution_count": 4,
   "id": "ff7d8bfc-3287-465a-9346-ae297601d3ab",
   "metadata": {},
   "outputs": [],
   "source": [
    "PATH = \"/home/grigorii/docs/neoflex/dags/spark_project/2 _delta/data\""
   ]
  },
  {
   "cell_type": "code",
   "execution_count": null,
   "id": "c47940e5-8f2b-4a75-9a73-016ead336fb0",
   "metadata": {},
   "outputs": [],
   "source": [
    "df = spark.read.format(\"csv\") \\\n",
    "    .options(header=True, delimiter=';') \\\n",
    "    .load(f\"{PATH}/mirr_md_account_d\")\n",
    "df.orderBy(\"ACCOUNT_RK\").show(50, False)"
   ]
  }
 ],
 "metadata": {
  "kernelspec": {
   "display_name": "Python 3 (ipykernel)",
   "language": "python",
   "name": "python3"
  },
  "language_info": {
   "codemirror_mode": {
    "name": "ipython",
    "version": 3
   },
   "file_extension": ".py",
   "mimetype": "text/x-python",
   "name": "python",
   "nbconvert_exporter": "python",
   "pygments_lexer": "ipython3",
   "version": "3.10.12"
  }
 },
 "nbformat": 4,
 "nbformat_minor": 5
}
